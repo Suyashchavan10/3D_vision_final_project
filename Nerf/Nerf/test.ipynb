{
 "cells": [
  {
   "cell_type": "code",
   "execution_count": 1,
   "metadata": {},
   "outputs": [],
   "source": [
    "# list all the files in ganesha/images and put them in a list in the file list.txt\n",
    "import os\n",
    "import sys\n",
    "\n",
    "def list_files():\n",
    "    with open('list.txt', 'w') as f:\n",
    "        for root, dirs, files in os.walk('ganesha/images'):\n",
    "            for file in files:\n",
    "                f.write(file + '\\n')\n",
    "\n",
    "if __name__ == '__main__':\n",
    "    list_files()"
   ]
  }
 ],
 "metadata": {
  "kernelspec": {
   "display_name": "tiai",
   "language": "python",
   "name": "python3"
  },
  "language_info": {
   "codemirror_mode": {
    "name": "ipython",
    "version": 3
   },
   "file_extension": ".py",
   "mimetype": "text/x-python",
   "name": "python",
   "nbconvert_exporter": "python",
   "pygments_lexer": "ipython3",
   "version": "3.12.5"
  }
 },
 "nbformat": 4,
 "nbformat_minor": 2
}
